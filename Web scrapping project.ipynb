{
 "cells": [
  {
   "cell_type": "markdown",
   "metadata": {},
   "source": [
    "#### Creating Dataframe where each row has all the weather information from the website : https://www.estesparkweather.net/archive_reports.php from 2009 to 2021"
   ]
  },
  {
   "cell_type": "code",
   "execution_count": null,
   "metadata": {},
   "outputs": [],
   "source": [
    "import bs4\n",
    "from bs4 import BeautifulSoup\n",
    "import csv\n",
    "import requests\n",
    "import time\n",
    "import pandas as pd\n",
    "import urllib\n",
    "import re\n",
    "import pickle"
   ]
  },
  {
   "cell_type": "code",
   "execution_count": null,
   "metadata": {},
   "outputs": [],
   "source": [
    "keys=['Average temperature (°F)', 'Average humidity (%)',\n",
    " 'Average dewpoint (°F)', 'Average barometer (in)',\n",
    " 'Average windspeed (mph)', 'Average gustspeed (mph)',\n",
    " 'Average direction (°deg)', 'Rainfall for month (in)',\n",
    " 'Rainfall for year (in)', 'Maximum rain per minute',\n",
    " 'Maximum temperature (°F)', 'Minimum temperature (°F)',\n",
    " 'Maximum humidity (%)', 'Minimum humidity (%)', 'Maximum pressure',\n",
    " 'Minimum pressure', 'Maximum windspeed (mph)',\n",
    " 'Maximum gust speed (mph)', 'Maximum heat index (°F)']\n",
    "\n",
    "keys.append('date')\n",
    "keys"
   ]
  },
  {
   "cell_type": "code",
   "execution_count": null,
   "metadata": {},
   "outputs": [],
   "source": [
    "day_data=dict.fromkeys(keys)"
   ]
  },
  {
   "cell_type": "code",
   "execution_count": null,
   "metadata": {},
   "outputs": [],
   "source": [
    "day_data"
   ]
  },
  {
   "cell_type": "code",
   "execution_count": null,
   "metadata": {},
   "outputs": [],
   "source": [
    "df = pd.DataFrame(columns=keys)\n",
    "df.set_index('date',inplace=True)"
   ]
  },
  {
   "cell_type": "code",
   "execution_count": null,
   "metadata": {},
   "outputs": [],
   "source": [
    "for year in range(2009,2022):\n",
    "    for month in range(1,13):\n",
    "        if month<10:\n",
    "            search_date=str(year)+str(0)+str(month)\n",
    "        else:\n",
    "            search_date=str(year)+str(month)\n",
    "        URL = \"http://www.estesparkweather.net/archive_reports.php?date=\"+search_date\n",
    "        page = requests.get(URL)\n",
    "        soup = BeautifulSoup(page.content, \"html.parser\")\n",
    "        results = soup.find(id=\"main-copy\")\n",
    "        tables = results.find_all(\"table\")\n",
    "        year = results.find(\"h1\").text.split()[-1]\n",
    "        day_data=dict.fromkeys(keys)\n",
    "        for table in tables:\n",
    "            trs=table.find_all(\"tr\",class_='table-top')\n",
    "            td=trs[0].find_all(\"td\")\n",
    "            date=td[0].text.split()\n",
    "            if date[1].isdigit():\n",
    "                day_data['date']=date[0]+\" \"+date[1]+\" \"+year\n",
    "                trs = table.find_all(\"tr\",class_='column-light')\n",
    "                for tr in trs:\n",
    "                    tds= tr.find_all(\"td\")\n",
    "                    r=re.compile(tds[0].text)\n",
    "                    key=list(filter(r.match, keys))[0]\n",
    "                    day_data[key]=tds[1].text.split()[0]\n",
    "                trs = table.find_all(\"tr\",class_='column-dark')\n",
    "                for tr in trs:\n",
    "                    tds= tr.find_all(\"td\")\n",
    "                    r=re.compile(tds[0].text)\n",
    "                    key=list(filter(r.match, keys))[0]\n",
    "                    day_data[key]=tds[1].text.split()[0]\n",
    "                #print(len(day_data.keys()))\n",
    "                temp_df=pd.DataFrame(day_data,index=['date'])\n",
    "                temp_df.set_index('date',inplace=True)\n",
    "                df=df.append(temp_df)"
   ]
  },
  {
   "cell_type": "code",
   "execution_count": null,
   "metadata": {},
   "outputs": [],
   "source": [
    "df.head()"
   ]
  },
  {
   "cell_type": "code",
   "execution_count": null,
   "metadata": {},
   "outputs": [],
   "source": [
    "df.shape"
   ]
  }
 ],
 "metadata": {
  "kernelspec": {
   "display_name": "Python 3",
   "language": "python",
   "name": "python3"
  },
  "language_info": {
   "codemirror_mode": {
    "name": "ipython",
    "version": 3
   },
   "file_extension": ".py",
   "mimetype": "text/x-python",
   "name": "python",
   "nbconvert_exporter": "python",
   "pygments_lexer": "ipython3",
   "version": "3.8.5"
  }
 },
 "nbformat": 4,
 "nbformat_minor": 4
}
